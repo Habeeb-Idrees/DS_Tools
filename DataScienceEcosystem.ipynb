{
 "cells": [
  {
   "cell_type": "markdown",
   "id": "5f470be3-c032-4b83-98e9-c2ad2643b8f7",
   "metadata": {
    "tags": []
   },
   "source": [
    "# Data Science Tools and Ecosystem"
   ]
  },
  {
   "cell_type": "markdown",
   "id": "c5561159-fa6d-4fd8-9298-66d993b0e2db",
   "metadata": {},
   "source": [
    "In this notebook, Data Science Tools and Ecosystem are summaraized. "
   ]
  },
  {
   "cell_type": "markdown",
   "id": "91e96d47-8fbe-4201-b9b2-55a438484f72",
   "metadata": {
    "tags": []
   },
   "source": [
    "**Objectives:**\n",
    "- List the most popular used Data Science languages\n",
    "- List the most popular Python Libraries used in Data Science\n",
    "- List open source development environments for Data Scientists\n",
    "- Demonstrate evaluating simple arithmetic expressions in Python"
   ]
  },
  {
   "cell_type": "markdown",
   "id": "87c9cbc5-6e00-4d20-9cbc-4193f16c5c02",
   "metadata": {},
   "source": [
    "Some of the popular languages that Data Scientists use are:\n",
    "1. Python \n",
    "2. R\n",
    "3. Java\n",
    "4. C++\n"
   ]
  },
  {
   "cell_type": "markdown",
   "id": "c793719b-7dda-4de3-9999-300d7312e4bb",
   "metadata": {},
   "source": [
    "Some of the commonly used libraries used by Data Scientists include:\n",
    "1. Pandas\n",
    "2. NumPy\n",
    "3. Matplotlib\n",
    "4. Scikit-learn\n",
    "5. Keras\n"
   ]
  },
  {
   "cell_type": "markdown",
   "id": "0fefd516-048d-4da6-b118-00d9b42b9fd9",
   "metadata": {},
   "source": [
    "|Data Science Tools|\n",
    "------------------\n",
    "| Jupyter Notebooks and Jupyter Lab | \n",
    "| RStudio |\n",
    "| Apache Spark |\n"
   ]
  },
  {
   "cell_type": "markdown",
   "id": "69a126ea-f389-4531-b9a1-ee4db0079a85",
   "metadata": {},
   "source": [
    "### Below are a few examples of evaluating arithmetic expressions in Python "
   ]
  },
  {
   "cell_type": "code",
   "execution_count": 4,
   "id": "f4bf317c-7345-4c46-afa6-9e6cc8505cf5",
   "metadata": {
    "tags": []
   },
   "outputs": [
    {
     "data": {
      "text/plain": [
       "17"
      ]
     },
     "execution_count": 4,
     "metadata": {},
     "output_type": "execute_result"
    }
   ],
   "source": [
    "# This is a simple arithmetic expression to muliply\n",
    "(3*4)+5"
   ]
  },
  {
   "cell_type": "code",
   "execution_count": 5,
   "id": "6c4cc748-710b-4d1b-a298-73a4ab49665f",
   "metadata": {
    "tags": []
   },
   "outputs": [
    {
     "data": {
      "text/plain": [
       "3.3333333333333335"
      ]
     },
     "execution_count": 5,
     "metadata": {},
     "output_type": "execute_result"
    }
   ],
   "source": [
    "# This will convers 200 minutes to hours by dividing by 60\n",
    "200/60"
   ]
  },
  {
   "cell_type": "markdown",
   "id": "d6452cab-c272-4504-8d1b-24eebf0fc27a",
   "metadata": {},
   "source": [
    "## Auhtor\n",
    "Habeeb Idrees"
   ]
  },
  {
   "cell_type": "markdown",
   "id": "adc95db5-2741-4bf5-a591-038ccf6bd1ea",
   "metadata": {},
   "source": []
  }
 ],
 "metadata": {
  "kernelspec": {
   "display_name": "Python",
   "language": "python",
   "name": "conda-env-python-py"
  },
  "language_info": {
   "codemirror_mode": {
    "name": "ipython",
    "version": 3
   },
   "file_extension": ".py",
   "mimetype": "text/x-python",
   "name": "python",
   "nbconvert_exporter": "python",
   "pygments_lexer": "ipython3",
   "version": "3.7.12"
  }
 },
 "nbformat": 4,
 "nbformat_minor": 5
}
